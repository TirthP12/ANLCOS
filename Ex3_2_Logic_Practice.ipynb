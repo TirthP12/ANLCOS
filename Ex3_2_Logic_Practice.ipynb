{
  "nbformat": 4,
  "nbformat_minor": 0,
  "metadata": {
    "kernelspec": {
      "display_name": "Python 3",
      "language": "python",
      "name": "python3"
    },
    "language_info": {
      "codemirror_mode": {
        "name": "ipython",
        "version": 3
      },
      "file_extension": ".py",
      "mimetype": "text/x-python",
      "name": "python",
      "nbconvert_exporter": "python",
      "pygments_lexer": "ipython3",
      "version": "3.6.1"
    },
    "colab": {
      "provenance": [],
      "include_colab_link": true
    }
  },
  "cells": [
    {
      "cell_type": "markdown",
      "metadata": {
        "id": "view-in-github",
        "colab_type": "text"
      },
      "source": [
        "<a href=\"https://colab.research.google.com/github/TirthP12/Coding-for-Science/blob/main/Ex3_2_Logic_Practice.ipynb\" target=\"_parent\"><img src=\"https://colab.research.google.com/assets/colab-badge.svg\" alt=\"Open In Colab\"/></a>"
      ]
    },
    {
      "cell_type": "markdown",
      "metadata": {
        "id": "kwAxInrMRugg"
      },
      "source": [
        "# Logic Practice\n",
        "\n",
        "### Let’s say you want your Python program to do something only IF something is true. Here’s a pseudocode example:\n",
        "\n",
        "IF traffic on road A is less than on road B, give me directions to go on road A. The code to do this is called an “if statement”.\n",
        "\n",
        "#### Every if statement evaluates to True or False. True and False are Python keywords, which have special meanings attached to them. You can test for the following conditions in your if statements:\n",
        "- equality (==)\n",
        "- inequality (!=)\n",
        "#### Other inequalities\n",
        "- greater than (>)\n",
        "- greater than or equal to (>=)\n",
        "- less than (<)\n",
        "- less than or equal to (<=)\n",
        "\n"
      ]
    },
    {
      "cell_type": "markdown",
      "metadata": {
        "id": "07ZlvE27Rugi"
      },
      "source": [
        "# Equality\n",
        "Two items are equal if they have the same value. You can test for equality between numbers, strings (i.e. words), and a number of other objects which you will learn about later. Some of these results may be surprising, so take a careful look at the examples below.\n",
        "\n",
        "  Try them in Python and see if the output matches your expectations.\n",
        "\n",
        "  In Python, as in many programming languages, two equals signs (==) tests for equality.\n",
        "\n",
        "Watch out! Be careful of accidentally using one equals sign, which can really throw things off because that one equals sign actually sets your item to the value you are testing for!"
      ]
    },
    {
      "cell_type": "code",
      "metadata": {
        "id": "nLFCCOcKRugl"
      },
      "source": [
        "# USE: Predict the output - how many \"True\", how many \"False\"?\n",
        "# Run this program to check\n",
        "\n",
        "print(5 == 5)\n",
        "print(3 == 5)\n",
        "print(5 == 5.0)\n",
        "print('argonne' == 'argonne')\n",
        "print('Argonne' == 'argonne')\n"
      ],
      "execution_count": null,
      "outputs": []
    },
    {
      "cell_type": "markdown",
      "metadata": {
        "id": "k-Qu7IIrRugv"
      },
      "source": [
        "## Inequality\n",
        "Two items are inequal if they do not have the same value. In Python, we test for inequality using the exclamation point and one equals sign.\n",
        "\n",
        "Sometimes you want to test for equality and if that fails, assume inequality. Sometimes it makes more sense to test for inequality directly.\n",
        "\n",
        "Print the following:\n",
        "- 3 != 5\n",
        "- 'Eric' != 'eric'\n"
      ]
    },
    {
      "cell_type": "code",
      "metadata": {
        "id": "ACenh6b8Rugx"
      },
      "source": [
        "# USE\n",
        "\n",
        "print(3 != 5)\n",
        "print('Eric' != 'eric')\n"
      ],
      "execution_count": null,
      "outputs": []
    },
    {
      "cell_type": "markdown",
      "metadata": {
        "id": "Z4T7y6DlRug7"
      },
      "source": [
        "## Other Inequalities\n",
        "\n",
        "How many true and false statements below? Check with code.\n",
        "\n",
        "- 5 > 3\n",
        "- 5 >= 3\n",
        "- 3 >= 3\n",
        "- 3 < 5\n",
        "- 3 <= 5\n",
        "- 3 <= 3"
      ]
    },
    {
      "cell_type": "code",
      "metadata": {
        "id": "6syE8iwWRug8"
      },
      "source": [
        "# MODIFY: Check the \"Other inequality\" logic statements"
      ],
      "execution_count": null,
      "outputs": []
    },
    {
      "cell_type": "markdown",
      "metadata": {
        "id": "5OCVK_tnRuhG"
      },
      "source": [
        "## Checking if an item is in a list\n",
        "You can check if an item is in a list using the <b>in</b> keyword.\n",
        "\n"
      ]
    },
    {
      "cell_type": "code",
      "metadata": {
        "id": "QGzFHdlRRuhH"
      },
      "source": [
        "# USE: Checking if an item is in a list\n",
        "\n",
        "vowels = ['a', 'e', 'i', 'o', 'u']\n",
        "\n",
        "print('a' in vowels)"
      ],
      "execution_count": null,
      "outputs": []
    },
    {
      "cell_type": "code",
      "metadata": {
        "id": "VfhtjqOnRuhS"
      },
      "source": [
        "# MODIFY: How would you test to see if 'b' is in the list? What would the output be?"
      ],
      "execution_count": null,
      "outputs": []
    },
    {
      "cell_type": "markdown",
      "metadata": {
        "id": "SFyeszI1Ruha"
      },
      "source": [
        "## Combining Booleans\n",
        "\n",
        "Evaluate several conditions and returns a single boolean:\n",
        "- and\n",
        "- or\n",
        "- not\n",
        "\n",
        "Try out the following\n",
        "- 3 < 5 and 6 > 4\n",
        "- 3 > 2 and 8 < 5\n",
        "- 3 > 2 or 8 < 5\n",
        "- not 2 > 3\n",
        "\n",
        "\n"
      ]
    },
    {
      "cell_type": "code",
      "metadata": {
        "id": "1f8SV9DXRuhb"
      },
      "source": [
        "# USE\n",
        "\n",
        "3 < 5 and 6 > 4\n"
      ],
      "execution_count": null,
      "outputs": []
    },
    {
      "cell_type": "code",
      "metadata": {
        "id": "3JQjaa8RRuhm"
      },
      "source": [
        "# USE\n",
        "\n",
        "3 > 2 and 8 < 5\n"
      ],
      "execution_count": null,
      "outputs": []
    },
    {
      "cell_type": "code",
      "metadata": {
        "id": "EIPzhhp_Ruht"
      },
      "source": [
        "# USE\n",
        "\n",
        "3 > 2 or 8 < 5\n"
      ],
      "execution_count": null,
      "outputs": []
    },
    {
      "cell_type": "markdown",
      "metadata": {
        "id": "nKQjsG43Ruh3"
      },
      "source": [
        "# Remember guess the number from Day 1?\n",
        "\n",
        "This is a great example of logic and loops in action together, using a \"While\" loop."
      ]
    },
    {
      "cell_type": "code",
      "metadata": {
        "id": "Et9W85iPRuh5"
      },
      "source": [
        "# USE: Run this python program:\n",
        "\n",
        "# Have computer select a random number between 1 and 100\n",
        "import random\n",
        "num = random.randint(1, 100)\n",
        "\n",
        "# Keep user guessing until they get it right\n",
        "while True:\n",
        "    print('Guess a number between 1 and 100')\n",
        "    guess = input()\n",
        "    i = int(guess)\n",
        "    if i == num:\n",
        "        print('You guessed right')\n",
        "        break\n",
        "    elif i < num:\n",
        "        print('Try higher')\n",
        "    elif i > num:\n",
        "        print('Try lower')\n"
      ],
      "execution_count": null,
      "outputs": []
    },
    {
      "cell_type": "markdown",
      "metadata": {
        "id": "aMQ-GqcjRuiC"
      },
      "source": [
        "## Modify: Write a Blood Sugar Testing Program for a Child with Diabetes\n",
        "\n",
        "After healthy people digest food, their cells take up the sugar out of their bloodstream and use it for energy. When the amount of sugar in the blood rises to a certain level, the pancrease produces a hormone, called insulin, signaling cells to take up sugar out of the blood stream.\n",
        "\n",
        "People with Type 1 diabetes have an immune disorder where the pancreas can't produce the hormone insulin. Without insulin, sugar in the bloodstream can rise to toxic levels and cells don't receive the energy they need. Therefore, people with Type 1 diabetes must carefully manage their diet, test their own blood sugar level, and inject themselves with insulin. They need to learn how to do the work of their pancreas.\n",
        "\n",
        "Let's write a program to help out a young person with Type 1 diabetes. Once they test their blood sugar level, they need to know if they should take action. Here's what their doctor says they should do:\n",
        "\n",
        "<ul>\n",
        "<li>If their blood sugar is <80 mg/dL, they have hypoglycemia (low blood sugar). They need to eat 15 grams of fast-acting carbs (such as 1 cup of milk or a half cup of juice and retest themselves in 15 minutes.</li>\n",
        "\n",
        "<li> If their blood sugar is 80-200 mg/dL, their blood sugar is \"normal\" and no action is needed.</li>\n",
        "\n",
        "<li> If their blood sugar is 201-240 mg/dL, their blood sugar is high. They need to drink lots of water and increase their activity level. </li>\n",
        "\n",
        "<li>If their blood sugar is > 240 mg/dL, they have hyperglycemia (high blood sugar). They need to drink lots of water and increase their activity level. If their blood sugar remains above 240 after two checks, they need to start monitoring their ketones and possibly take extra insulin.</li>\n",
        "\n",
        "</ul>\n",
        "\n",
        "Can you modify the program above for them so that if they enter their blood sugar, they get the correct instructions?"
      ]
    },
    {
      "cell_type": "code",
      "metadata": {
        "id": "mbIObA7xRuiD"
      },
      "source": [
        "# MODIFY: Copy and change the \"guess the number\" program\n",
        "# to have a user input their blood sugar reading\n",
        "# then get an appropriate response from the computer\n",
        "# saying what action to take.\n",
        "\n",
        "print('What is your blood sugar level?')\n",
        "actual_BS = input()\n"
      ],
      "execution_count": null,
      "outputs": []
    },
    {
      "cell_type": "markdown",
      "metadata": {
        "id": "mr5BfzO0RuiK"
      },
      "source": [
        "## Can you create a training game for a child?"
      ]
    },
    {
      "cell_type": "code",
      "metadata": {
        "id": "fBNVDsS4RuiN"
      },
      "source": [
        "# CREATE: Make a game to help a child with Type 1 diabetes learn\n",
        "# what action they need to take, given a randomly generated blood sugar level\n"
      ],
      "execution_count": null,
      "outputs": []
    }
  ]
}
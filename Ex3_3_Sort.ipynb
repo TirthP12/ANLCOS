{
  "nbformat": 4,
  "nbformat_minor": 0,
  "metadata": {
    "kernelspec": {
      "display_name": "Python 3",
      "language": "python",
      "name": "python3"
    },
    "language_info": {
      "codemirror_mode": {
        "name": "ipython",
        "version": 3
      },
      "file_extension": ".py",
      "mimetype": "text/x-python",
      "name": "python",
      "nbconvert_exporter": "python",
      "pygments_lexer": "ipython3",
      "version": "3.6.1"
    },
    "colab": {
      "provenance": [],
      "include_colab_link": true
    }
  },
  "cells": [
    {
      "cell_type": "markdown",
      "metadata": {
        "id": "view-in-github",
        "colab_type": "text"
      },
      "source": [
        "<a href=\"https://colab.research.google.com/github/TirthP12/Coding-for-Science/blob/main/Ex3_3_Sort.ipynb\" target=\"_parent\"><img src=\"https://colab.research.google.com/assets/colab-badge.svg\" alt=\"Open In Colab\"/></a>"
      ]
    },
    {
      "cell_type": "markdown",
      "metadata": {
        "id": "GHMlwCFQUDrD"
      },
      "source": [
        "# Sorting\n",
        "### Rearrange a list of random numbers, so that they are ordered from smallest to largest"
      ]
    },
    {
      "cell_type": "code",
      "metadata": {
        "id": "GLijW0A8MT_R",
        "colab": {
          "base_uri": "https://localhost:8080/"
        },
        "outputId": "3ec78969-2e5c-4cd6-c37e-ad61225cd40d"
      },
      "source": [
        "# CREATE: nested loop practice\n",
        "for i in range(0, 11, 1): # range(11):\n",
        "  for j in range(0, 11, 1): # range(11):\n",
        "    print(f'{i * j:3} ', end='')\n",
        "  print('')"
      ],
      "execution_count": 1,
      "outputs": [
        {
          "output_type": "stream",
          "name": "stdout",
          "text": [
            "  0   0   0   0   0   0   0   0   0   0   0 \n",
            "  0   1   2   3   4   5   6   7   8   9  10 \n",
            "  0   2   4   6   8  10  12  14  16  18  20 \n",
            "  0   3   6   9  12  15  18  21  24  27  30 \n",
            "  0   4   8  12  16  20  24  28  32  36  40 \n",
            "  0   5  10  15  20  25  30  35  40  45  50 \n",
            "  0   6  12  18  24  30  36  42  48  54  60 \n",
            "  0   7  14  21  28  35  42  49  56  63  70 \n",
            "  0   8  16  24  32  40  48  56  64  72  80 \n",
            "  0   9  18  27  36  45  54  63  72  81  90 \n",
            "  0  10  20  30  40  50  60  70  80  90 100 \n"
          ]
        }
      ]
    },
    {
      "cell_type": "code",
      "metadata": {
        "id": "eu51jzbjUDrG",
        "colab": {
          "base_uri": "https://localhost:8080/"
        },
        "outputId": "3db50135-9257-4d93-fba4-966e984e266f"
      },
      "source": [
        "# CREATE: a sorting algorithm\n",
        "\n",
        "import random\n",
        "\n",
        "# create a list with 10 random numbers\n",
        "myarray = []\n",
        "for i in range(20):\n",
        "    myarray.append(random.randint(1, 100))\n",
        "\n",
        "print(f'orginal myarray {myarray}')\n",
        "\n",
        "array1 = random.sample(range(100), 10)\n",
        "array2 = random.sample(range(100), 10)\n",
        "array3 = random.sample(range(100), 10)\n",
        "print(array1)\n",
        "print(array2)\n",
        "print(array3)\n",
        "\n",
        "for outer in range(0: len(myarray)):\n",
        "  for inner in range(outer + 1: len(myarray)):\n",
        "\n",
        "    if (inner) < (outer)\n",
        "    tmp = myarray\n",
        "    myarray = array1\n",
        "    array1 = tmp\n",
        "\n",
        "    tmp = array 1\n",
        "    array1 = array2\n",
        "    array2 = tmp\n",
        "\n",
        "\n",
        "\n",
        "\n",
        "19\n",
        "10\n",
        "10\n",
        "10\n",
        "\n",
        "\n"
      ],
      "execution_count": 21,
      "outputs": [
        {
          "output_type": "stream",
          "name": "stdout",
          "text": [
            "orginal myarray [17, 90, 93, 43, 88, 51, 74, 59, 6, 93, 16, 55, 62, 12, 61, 75, 69, 74, 4, 11]\n",
            "[13, 50, 63, 46, 23, 94, 37, 77, 17, 60]\n",
            "[69, 20, 75, 31, 95, 11, 0, 53, 84, 49]\n",
            "[55, 59, 72, 96, 12, 68, 10, 82, 79, 15]\n"
          ]
        }
      ]
    },
    {
      "cell_type": "code",
      "metadata": {
        "id": "yRN6HWj-4cp5",
        "colab": {
          "base_uri": "https://localhost:8080/"
        },
        "outputId": "94f41640-e030-45f1-f7f2-16337171484f"
      },
      "source": [
        "# sort the list here!!!\n",
        "\n",
        "# outer loop: loop (outer) from the start of the list to the end of the list\n",
        "for outer in range(len(array1)):\n",
        "    # inner loop: loop (inner) from the next outer loop index (inner+1) to the end of the list\n",
        "    for inner in range(outer+1, len(array1)):\n",
        "        # if the current inner loop entry is less than the current outer loop entry, swap them\n",
        "        if array1[inner] < array1[outer]:\n",
        "          tmp = array1[inner]\n",
        "          array1[inner] = array1[outer]\n",
        "          array1[outer] = tmp\n",
        "    # at the end of the inner loop, the list up to the current outer location (outer) should be sorted\n",
        "    print(array1)\n",
        "# at the end of the outer loop, the whole list should be sorted\n"
      ],
      "execution_count": 7,
      "outputs": [
        {
          "output_type": "stream",
          "name": "stdout",
          "text": [
            "[10, 12, 15, 16, 61, 69, 75, 89, 92, 96]\n",
            "[10, 12, 15, 16, 61, 69, 75, 89, 92, 96]\n",
            "[10, 12, 15, 16, 61, 69, 75, 89, 92, 96]\n",
            "[10, 12, 15, 16, 61, 69, 75, 89, 92, 96]\n",
            "[10, 12, 15, 16, 61, 69, 75, 89, 92, 96]\n",
            "[10, 12, 15, 16, 61, 69, 75, 89, 92, 96]\n",
            "[10, 12, 15, 16, 61, 69, 75, 89, 92, 96]\n",
            "[10, 12, 15, 16, 61, 69, 75, 89, 92, 96]\n",
            "[10, 12, 15, 16, 61, 69, 75, 89, 92, 96]\n",
            "[10, 12, 15, 16, 61, 69, 75, 89, 92, 96]\n"
          ]
        }
      ]
    },
    {
      "cell_type": "markdown",
      "metadata": {
        "id": "jZkGExGyUDrU"
      },
      "source": [
        "### Extra Challenge: Use the 'sort' algorithm: How to tell if two strings contain the same characters?\n",
        "\n",
        "Given two strings (such as `\"the morse code\"` and `\"here come dots\"`), do they contain the exact same letters (and the exact same amount of each letter)?\n",
        "\n",
        "One way to find out would be to loop through the characters in the first string and count how often each letter occurs. Then we do the same thing with the second string and compare the frequency of each character. If all frequencies match, the two strings contain the same characters!\n",
        "\n",
        "However, this approach is a bit heavy handed. Can you think of a better way using 'sort'?"
      ]
    },
    {
      "cell_type": "code",
      "metadata": {
        "id": "gjuIOQoLUDrV",
        "colab": {
          "base_uri": "https://localhost:8080/"
        },
        "outputId": "26e34d2e-643b-4e7f-e408-743e4818ffdb"
      },
      "source": [
        "string1 = 'the morse code'\n",
        "string2 = 'here come dots'\n",
        "string3 = 'a decimal this'\n",
        "\n",
        "# convert the strings to a list of characters\n",
        "string1_chars = list(string1)\n",
        "string2_chars = list(string2)\n",
        "string3_chars = list(string3)\n",
        "\n",
        "for outer in range(len(string1_chars)):\n",
        "\n",
        "    for inner in range(outer+1, len(string1_chars)):\n",
        "\n",
        "        if string1_chars[inner] < string1_chars[outer]:\n",
        "          tmp = string1_chars[inner]\n",
        "          string1_chars[inner] = string1_chars[outer]\n",
        "          string1_chars[outer] = tmp\n",
        "\n",
        "print(string1_chars)\n",
        "\n",
        "\n",
        "\n",
        "\n",
        "for outer in range(len(string2_chars)):\n",
        "\n",
        "    for inner in range(outer+1, len(string2_chars)):\n",
        "\n",
        "        if string2_chars[inner] < string2_chars[outer]:\n",
        "          tmp = string2_chars[inner]\n",
        "          string2_chars[inner] = string2_chars[outer]\n",
        "          string2_chars[outer] = tmp\n",
        "\n",
        "print(string2_chars)\n",
        "for outer in range(len(string3_chars)):\n",
        "\n",
        "    for inner in range(outer+1, len(string3_chars)):\n",
        "\n",
        "        if string3_chars[inner] < string3_chars[outer]:\n",
        "          tmp = string3_chars[inner]\n",
        "          string3_chars[inner] = string3_chars[outer]\n",
        "          string3_chars[outer] = tmp\n",
        "\n",
        "print(string3_chars)\n",
        "\n",
        "\n",
        "print(string1_chars == string2_chars)\n",
        "print(string1_chars == string3_chars)\n",
        "print(string2_chars == string3_chars)\n",
        "\n",
        "# compare the characters to see if they are the same\n",
        "# code here!\n",
        "\n",
        "\n",
        "# if characters in string1 are the same as characters in string2\n",
        "#    print `string1` has same characters as `string2`\n",
        "# else\n",
        "#    print `string1` has different characters from `string2`\n",
        "if sorted(string1_chars) == sorted(string2_chars):\n",
        "  print(\"`string1` has same characters as `string2`\")\n",
        "else:\n",
        "  print(\"print `string1` has different characters from `string2`\")\n",
        "\n",
        "\n",
        "# if characters in string1 are the same as characters in string3\n",
        "#    print `string1` has same characters as `string3`\n",
        "# else\n",
        "#    print `string1` has different characters from `string3`\n",
        "if sorted(string1_chars) == sorted(string3_chars):\n",
        "  print (\"`string1` has same characters as `string3`\")\n",
        "else:\n",
        "  print(\"`string1` has different characters from `string3`\")"
      ],
      "execution_count": 20,
      "outputs": [
        {
          "output_type": "stream",
          "name": "stdout",
          "text": [
            "[' ', ' ', 'c', 'd', 'e', 'e', 'e', 'h', 'm', 'o', 'o', 'r', 's', 't']\n",
            "[' ', ' ', 'c', 'd', 'e', 'e', 'e', 'h', 'm', 'o', 'o', 'r', 's', 't']\n",
            "[' ', ' ', 'a', 'a', 'c', 'd', 'e', 'h', 'i', 'i', 'l', 'm', 's', 't']\n",
            "True\n",
            "False\n",
            "False\n",
            "`string1` has same characters as `string2`\n",
            "`string1` has different characters from `string3`\n"
          ]
        }
      ]
    },
    {
      "cell_type": "code",
      "source": [
        "\n"
      ],
      "metadata": {
        "id": "zIjosENQ6BGt"
      },
      "execution_count": 20,
      "outputs": []
    },
    {
      "cell_type": "code",
      "source": [],
      "metadata": {
        "id": "PnYIix7YFUJP"
      },
      "execution_count": null,
      "outputs": []
    }
  ]
}